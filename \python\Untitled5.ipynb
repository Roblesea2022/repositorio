{
  "nbformat": 4,
  "nbformat_minor": 0,
  "metadata": {
    "colab": {
      "provenance": [],
      "authorship_tag": "ABX9TyOI6sWbqIcjcChSbIvINuME",
      "include_colab_link": true
    },
    "kernelspec": {
      "name": "python3",
      "display_name": "Python 3"
    },
    "language_info": {
      "name": "python"
    }
  },
  "cells": [
    {
      "cell_type": "markdown",
      "metadata": {
        "id": "view-in-github",
        "colab_type": "text"
      },
      "source": [
        "<a href=\"https://colab.research.google.com/github/Roblesea2022/repositorio/blob/main/%5Cpython%5CUntitled5.ipynb\" target=\"_parent\"><img src=\"https://colab.research.google.com/assets/colab-badge.svg\" alt=\"Open In Colab\"/></a>"
      ]
    },
    {
      "cell_type": "code",
      "execution_count": 119,
      "metadata": {
        "id": "n072PXtS1Hze"
      },
      "outputs": [],
      "source": [
        "import os\n",
        "import numpy as np\n",
        "import matplotlib.pyplot as plt\n",
        "import math as math\n",
        "from scipy.optimize import minimize\n",
        "from scipy import stats"
      ]
    },
    {
      "cell_type": "code",
      "source": [
        "data=np.loadtxt(\"IRCF.txt\").T\n"
      ],
      "metadata": {
        "id": "uvTezWYi2edI"
      },
      "execution_count": 120,
      "outputs": []
    },
    {
      "cell_type": "code",
      "source": [
        "v=data[0]\n",
        "T=data[1]\n",
        "yerror=data[3]"
      ],
      "metadata": {
        "id": "mtwjAsBMBFxM"
      },
      "execution_count": 121,
      "outputs": []
    },
    {
      "cell_type": "markdown",
      "source": [],
      "metadata": {
        "id": "Z1nCTvmm75F-"
      }
    },
    {
      "cell_type": "code",
      "source": [
        "plt.errorbar(v, T, yerror)"
      ],
      "metadata": {
        "colab": {
          "base_uri": "https://localhost:8080/",
          "height": 282
        },
        "id": "I0UAOpAB48Gn",
        "outputId": "04ef5794-6c62-4e85-af17-9c4cb6a6a782"
      },
      "execution_count": 122,
      "outputs": [
        {
          "output_type": "execute_result",
          "data": {
            "text/plain": [
              "<ErrorbarContainer object of 3 artists>"
            ]
          },
          "metadata": {},
          "execution_count": 122
        },
        {
          "output_type": "display_data",
          "data": {
            "text/plain": [
              "<Figure size 432x288 with 1 Axes>"
            ],
            "image/png": "[encoded data removed]"
          },
          "metadata": {
            "needs_background": "light"
          }
        }
      ]
    },
    {
      "cell_type": "code",
      "source": [
        "h=6.62607015*(pow(10,-34))\n",
        "k=1.380649*(pow(10,-23))\n",
        "c=299792458\n",
        "e=2,71828"
      ],
      "metadata": {
        "id": "sDdpuv9o_DeA"
      },
      "execution_count": 123,
      "outputs": []
    },
    {
      "cell_type": "code",
      "source": [
        "def Intensidad(v,T):\n",
        "  In=(h*(pow(v,3))/pow(c,2))*(1/(pow(e,((h*v)/(k*T)))-1))\n",
        "  return In\n"
      ],
      "metadata": {
        "id": "irQfhHUDGLSy"
      },
      "execution_count": 124,
      "outputs": []
    },
    {
      "cell_type": "code",
      "source": [
        "def SI_a_MJansky(value_SI):\n",
        "  return value_SI/(pow(1,-26))/pow(1,26)"
      ],
      "metadata": {
        "id": "-RBPCnbAJaou"
      },
      "execution_count": 125,
      "outputs": []
    },
    {
      "cell_type": "code",
      "source": [],
      "metadata": {
        "id": "MDxQIofFM01o"
      },
      "execution_count": null,
      "outputs": []
    },
    {
      "cell_type": "markdown",
      "source": [],
      "metadata": {
        "id": "kmBi2nUoINya"
      }
    }
  ]
}