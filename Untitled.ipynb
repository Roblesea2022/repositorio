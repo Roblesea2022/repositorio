{
 "cells": [
  {
   "cell_type": "code",
   "execution_count": null,
   "id": "b14a6809-bb37-4f27-84d3-541d3608faf9",
   "metadata": {},
   "outputs": [],
   "source": []
  },
  {
   "cell_type": "code",
   "execution_count": 1,
   "id": "20dde558-a428-4309-813e-caafac89cea6",
   "metadata": {},
   "outputs": [
    {
     "data": {
      "text/plain": [
       "8"
      ]
     },
     "execution_count": 1,
     "metadata": {},
     "output_type": "execute_result"
    }
   ],
   "source": [
    "2+6"
   ]
  },
  {
   "cell_type": "code",
   "execution_count": 2,
   "id": "14042cab-f131-41c6-a98a-b4e250eb5872",
   "metadata": {},
   "outputs": [
    {
     "data": {
      "text/plain": [
       "3479.95125"
      ]
     },
     "execution_count": 2,
     "metadata": {},
     "output_type": "execute_result"
    }
   ],
   "source": [
    "3.258*8545/8"
   ]
  },
  {
   "cell_type": "markdown",
   "id": "feff45ae-9959-4072-9877-f063754d0012",
   "metadata": {},
   "source": [
    "print \"Hola Mundo\""
   ]
  },
  {
   "cell_type": "code",
   "execution_count": 3,
   "id": "8e41381f-9c84-414a-b2bc-5ee89407a23d",
   "metadata": {},
   "outputs": [
    {
     "ename": "SyntaxError",
     "evalue": "Missing parentheses in call to 'print'. Did you mean print(\"Hola mundo\")? (898590475.py, line 1)",
     "output_type": "error",
     "traceback": [
      "\u001b[0;36m  Input \u001b[0;32mIn [3]\u001b[0;36m\u001b[0m\n\u001b[0;31m    print \"Hola mundo\"\u001b[0m\n\u001b[0m          ^\u001b[0m\n\u001b[0;31mSyntaxError\u001b[0m\u001b[0;31m:\u001b[0m Missing parentheses in call to 'print'. Did you mean print(\"Hola mundo\")?\n"
     ]
    }
   ],
   "source": [
    "print \"Hola mundo\""
   ]
  },
  {
   "cell_type": "code",
   "execution_count": 4,
   "id": "6ac64911-87a3-498b-83ae-cec7d2f8b06f",
   "metadata": {},
   "outputs": [
    {
     "ename": "SyntaxError",
     "evalue": "invalid syntax (2482830657.py, line 1)",
     "output_type": "error",
     "traceback": [
      "\u001b[0;36m  Input \u001b[0;32mIn [4]\u001b[0;36m\u001b[0m\n\u001b[0;31m    print (Hola mundo)\u001b[0m\n\u001b[0m                ^\u001b[0m\n\u001b[0;31mSyntaxError\u001b[0m\u001b[0;31m:\u001b[0m invalid syntax\n"
     ]
    }
   ],
   "source": [
    "print (Hola mundo)"
   ]
  },
  {
   "cell_type": "code",
   "execution_count": 5,
   "id": "85ab783a-fa43-4285-9176-c9e706c2cc80",
   "metadata": {},
   "outputs": [
    {
     "ename": "NameError",
     "evalue": "name 'holamundo' is not defined",
     "output_type": "error",
     "traceback": [
      "\u001b[0;31m---------------------------------------------------------------------------\u001b[0m",
      "\u001b[0;31mNameError\u001b[0m                                 Traceback (most recent call last)",
      "Input \u001b[0;32mIn [5]\u001b[0m, in \u001b[0;36m<cell line: 1>\u001b[0;34m()\u001b[0m\n\u001b[0;32m----> 1\u001b[0m \u001b[38;5;28mprint\u001b[39m(\u001b[43mholamundo\u001b[49m)\n",
      "\u001b[0;31mNameError\u001b[0m: name 'holamundo' is not defined"
     ]
    }
   ],
   "source": [
    "print(holamundo)"
   ]
  },
  {
   "cell_type": "code",
   "execution_count": 6,
   "id": "731c757b-d8af-4d36-aac2-178806f20fa4",
   "metadata": {},
   "outputs": [
    {
     "name": "stdout",
     "output_type": "stream",
     "text": [
      "Hola Mundo\n"
     ]
    }
   ],
   "source": [
    "print(\"Hola Mundo\")"
   ]
  },
  {
   "cell_type": "markdown",
   "id": "9f9ff67b-ee48-42e3-bde6-04ce56ebe755",
   "metadata": {},
   "source": [
    "Esta celda es una ecuacion: y=x²"
   ]
  },
  {
   "cell_type": "markdown",
   "id": "d5208d4b-6fb2-42e3-88cf-05db14c41a50",
   "metadata": {},
   "source": [
    "Esta es una celda de texto con una ecuaion x=y²\n"
   ]
  },
  {
   "cell_type": "code",
   "execution_count": 7,
   "id": "3bf43bd4-a590-4487-bc25-6b7321aaac65",
   "metadata": {},
   "outputs": [],
   "source": [
    "a=5"
   ]
  },
  {
   "cell_type": "code",
   "execution_count": 9,
   "id": "7922b78a-6e46-4d82-803b-4542bf83ceaf",
   "metadata": {},
   "outputs": [],
   "source": [
    "b=4"
   ]
  },
  {
   "cell_type": "code",
   "execution_count": 10,
   "id": "9abf7a9a-5efa-40d6-b162-d0ca445a879c",
   "metadata": {},
   "outputs": [
    {
     "data": {
      "text/plain": [
       "9"
      ]
     },
     "execution_count": 10,
     "metadata": {},
     "output_type": "execute_result"
    }
   ],
   "source": [
    "a+b"
   ]
  },
  {
   "cell_type": "code",
   "execution_count": 11,
   "id": "b44bac8c-282f-4af4-ac33-8310d97f7045",
   "metadata": {},
   "outputs": [
    {
     "data": {
      "text/plain": [
       "(9, 1, 20, 1.25, 1)"
      ]
     },
     "execution_count": 11,
     "metadata": {},
     "output_type": "execute_result"
    }
   ],
   "source": [
    "a+b, a-b, a*b, a/b, a%b"
   ]
  },
  {
   "cell_type": "code",
   "execution_count": 12,
   "id": "4cde34f3-5bdc-4fc2-a9c5-9d878baa06c0",
   "metadata": {},
   "outputs": [],
   "source": [
    "c=a+b"
   ]
  },
  {
   "cell_type": "code",
   "execution_count": 13,
   "id": "50b1511f-7f3e-4d42-a43a-c2b827d1e343",
   "metadata": {},
   "outputs": [
    {
     "data": {
      "text/plain": [
       "9"
      ]
     },
     "execution_count": 13,
     "metadata": {},
     "output_type": "execute_result"
    }
   ],
   "source": [
    "c"
   ]
  },
  {
   "cell_type": "code",
   "execution_count": 14,
   "id": "852f4dcd-eeef-475e-a71f-6f97b5efaabc",
   "metadata": {},
   "outputs": [
    {
     "name": "stdout",
     "output_type": "stream",
     "text": [
      "9.0\n"
     ]
    }
   ],
   "source": [
    "print(a/5*c)"
   ]
  },
  {
   "cell_type": "code",
   "execution_count": 15,
   "id": "d8f865a3-b5f6-466e-a3ba-91f52e710bb7",
   "metadata": {},
   "outputs": [
    {
     "data": {
      "text/plain": [
       "9.0"
      ]
     },
     "execution_count": 15,
     "metadata": {},
     "output_type": "execute_result"
    }
   ],
   "source": [
    "a/5*c"
   ]
  },
  {
   "cell_type": "code",
   "execution_count": 16,
   "id": "327725b3-73d1-4d16-b000-292767e1c5ec",
   "metadata": {},
   "outputs": [],
   "source": [
    " lista={2,4,6,8,10,12}"
   ]
  },
  {
   "cell_type": "code",
   "execution_count": 17,
   "id": "0058ab7f-b29f-4332-8fe0-13327376c96e",
   "metadata": {},
   "outputs": [
    {
     "ename": "TypeError",
     "evalue": "unsupported operand type(s) for *: 'set' and 'int'",
     "output_type": "error",
     "traceback": [
      "\u001b[0;31m---------------------------------------------------------------------------\u001b[0m",
      "\u001b[0;31mTypeError\u001b[0m                                 Traceback (most recent call last)",
      "Input \u001b[0;32mIn [17]\u001b[0m, in \u001b[0;36m<cell line: 1>\u001b[0;34m()\u001b[0m\n\u001b[0;32m----> 1\u001b[0m \u001b[43mlista\u001b[49m\u001b[38;5;241;43m*\u001b[39;49m\u001b[38;5;241;43m2\u001b[39;49m\n",
      "\u001b[0;31mTypeError\u001b[0m: unsupported operand type(s) for *: 'set' and 'int'"
     ]
    }
   ],
   "source": [
    "lista*2"
   ]
  },
  {
   "cell_type": "code",
   "execution_count": 18,
   "id": "fb25c031-c969-4ac6-8d22-6fb3451311f7",
   "metadata": {},
   "outputs": [
    {
     "ename": "TypeError",
     "evalue": "unsupported operand type(s) for *: 'set' and 'int'",
     "output_type": "error",
     "traceback": [
      "\u001b[0;31m---------------------------------------------------------------------------\u001b[0m",
      "\u001b[0;31mTypeError\u001b[0m                                 Traceback (most recent call last)",
      "Input \u001b[0;32mIn [18]\u001b[0m, in \u001b[0;36m<cell line: 1>\u001b[0;34m()\u001b[0m\n\u001b[0;32m----> 1\u001b[0m \u001b[38;5;28mprint\u001b[39m(\u001b[43mlista\u001b[49m\u001b[38;5;241;43m*\u001b[39;49m\u001b[38;5;241;43m2\u001b[39;49m)\n",
      "\u001b[0;31mTypeError\u001b[0m: unsupported operand type(s) for *: 'set' and 'int'"
     ]
    }
   ],
   "source": [
    "print(lista*2)\n"
   ]
  },
  {
   "cell_type": "code",
   "execution_count": 19,
   "id": "bab7bec0-e952-46a5-82ce-d0d24277a6ca",
   "metadata": {},
   "outputs": [],
   "source": [
    " lista=[2,4,6,8,10,12]"
   ]
  },
  {
   "cell_type": "code",
   "execution_count": 20,
   "id": "21dc5767-a24e-4135-a0b5-5424ce449343",
   "metadata": {},
   "outputs": [
    {
     "data": {
      "text/plain": [
       "[2, 4, 6, 8, 10, 12]"
      ]
     },
     "execution_count": 20,
     "metadata": {},
     "output_type": "execute_result"
    }
   ],
   "source": [
    "lista"
   ]
  },
  {
   "cell_type": "code",
   "execution_count": 21,
   "id": "357016a9-ad1b-444f-955f-7baffe06ad87",
   "metadata": {},
   "outputs": [
    {
     "data": {
      "text/plain": [
       "[2, 4, 6, 8, 10, 12, 2, 4, 6, 8, 10, 12]"
      ]
     },
     "execution_count": 21,
     "metadata": {},
     "output_type": "execute_result"
    }
   ],
   "source": [
    "lista*2"
   ]
  },
  {
   "cell_type": "code",
   "execution_count": 22,
   "id": "88036688-5751-4072-96db-af64df6c533a",
   "metadata": {},
   "outputs": [],
   "source": [
    "lista2=[\"nombre\",\"edad\"]"
   ]
  },
  {
   "cell_type": "code",
   "execution_count": 23,
   "id": "9a4660e9-59e8-413b-9994-b18a7c831f6e",
   "metadata": {},
   "outputs": [
    {
     "data": {
      "text/plain": [
       "['nombre', 'edad']"
      ]
     },
     "execution_count": 23,
     "metadata": {},
     "output_type": "execute_result"
    }
   ],
   "source": [
    "lista2"
   ]
  },
  {
   "cell_type": "code",
   "execution_count": 24,
   "id": "ac6c67c8-bac3-4924-bbe7-40fed5b61412",
   "metadata": {},
   "outputs": [
    {
     "data": {
      "text/plain": [
       "['nombre', 'edad', 'nombre', 'edad']"
      ]
     },
     "execution_count": 24,
     "metadata": {},
     "output_type": "execute_result"
    }
   ],
   "source": [
    "lista2*2"
   ]
  },
  {
   "cell_type": "code",
   "execution_count": 25,
   "id": "46abded9-132c-4fef-a71c-717a8fabc756",
   "metadata": {},
   "outputs": [
    {
     "ename": "SyntaxError",
     "evalue": "invalid syntax (136903622.py, line 1)",
     "output_type": "error",
     "traceback": [
      "\u001b[0;36m  Input \u001b[0;32mIn [25]\u001b[0;36m\u001b[0m\n\u001b[0;31m    lista2 0\u001b[0m\n\u001b[0m           ^\u001b[0m\n\u001b[0;31mSyntaxError\u001b[0m\u001b[0;31m:\u001b[0m invalid syntax\n"
     ]
    }
   ],
   "source": [
    "lista2 0"
   ]
  },
  {
   "cell_type": "code",
   "execution_count": 26,
   "id": "825a694f-4258-43e4-bf9f-0f00177f6459",
   "metadata": {},
   "outputs": [
    {
     "data": {
      "text/plain": [
       "'nombre'"
      ]
     },
     "execution_count": 26,
     "metadata": {},
     "output_type": "execute_result"
    }
   ],
   "source": [
    "lista2[0]"
   ]
  },
  {
   "cell_type": "code",
   "execution_count": 27,
   "id": "f9bc0bbf-8aba-4a5a-8ab7-cfceb94ba07c",
   "metadata": {},
   "outputs": [],
   "source": [
    "import numpy as np"
   ]
  },
  {
   "cell_type": "code",
   "execution_count": 46,
   "id": "dc67f213-528b-4370-b633-e8eac519aff9",
   "metadata": {},
   "outputs": [],
   "source": [
    "a=np.zeros(10)\n",
    "b=np.ones(10)\n",
    "c=np.linspace(-10,10,10)\n",
    "d=np.arange(-1,10,0.15)"
   ]
  },
  {
   "cell_type": "code",
   "execution_count": 29,
   "id": "5688a51d-4ab3-4f2b-b4a1-5cbbd1adbb53",
   "metadata": {},
   "outputs": [
    {
     "ename": "TypeError",
     "evalue": "'builtin_function_or_method' object is not subscriptable",
     "output_type": "error",
     "traceback": [
      "\u001b[0;31m---------------------------------------------------------------------------\u001b[0m",
      "\u001b[0;31mTypeError\u001b[0m                                 Traceback (most recent call last)",
      "Input \u001b[0;32mIn [29]\u001b[0m, in \u001b[0;36m<cell line: 1>\u001b[0;34m()\u001b[0m\n\u001b[0;32m----> 1\u001b[0m a\u001b[38;5;241m=\u001b[39m\u001b[43mnp\u001b[49m\u001b[38;5;241;43m.\u001b[39;49m\u001b[43mzeros\u001b[49m\u001b[43m[\u001b[49m\u001b[38;5;241;43m10\u001b[39;49m\u001b[43m]\u001b[49m\n",
      "\u001b[0;31mTypeError\u001b[0m: 'builtin_function_or_method' object is not subscriptable"
     ]
    }
   ],
   "source": [
    "a=np.zeros[10]"
   ]
  },
  {
   "cell_type": "code",
   "execution_count": 30,
   "id": "faf6d8f9-fe4c-4649-b2f8-05ff5699a757",
   "metadata": {},
   "outputs": [
    {
     "data": {
      "text/plain": [
       "array([0., 0., 0., 0., 0., 0., 0., 0., 0., 0.])"
      ]
     },
     "execution_count": 30,
     "metadata": {},
     "output_type": "execute_result"
    }
   ],
   "source": [
    "a"
   ]
  },
  {
   "cell_type": "code",
   "execution_count": 31,
   "id": "c899c85e-2779-435a-9848-2082223ad2ef",
   "metadata": {},
   "outputs": [
    {
     "data": {
      "text/plain": [
       "array([2., 2., 2., 2., 2., 2., 2., 2., 2., 2.])"
      ]
     },
     "execution_count": 31,
     "metadata": {},
     "output_type": "execute_result"
    }
   ],
   "source": [
    "a+2"
   ]
  },
  {
   "cell_type": "code",
   "execution_count": 33,
   "id": "01d37c22-6b95-491c-8e59-ba6d93e6a27b",
   "metadata": {},
   "outputs": [
    {
     "data": {
      "text/plain": [
       "array([1., 1., 1., 1., 1., 1., 1., 1., 1., 1.])"
      ]
     },
     "execution_count": 33,
     "metadata": {},
     "output_type": "execute_result"
    }
   ],
   "source": [
    "a+b"
   ]
  },
  {
   "cell_type": "code",
   "execution_count": 34,
   "id": "2f2ec37e-03a1-4fa7-8385-59cfd44bcff3",
   "metadata": {},
   "outputs": [
    {
     "data": {
      "text/plain": [
       "array([1., 1., 1., 1., 1., 1., 1., 1., 1., 1.])"
      ]
     },
     "execution_count": 34,
     "metadata": {},
     "output_type": "execute_result"
    }
   ],
   "source": [
    "b"
   ]
  },
  {
   "cell_type": "code",
   "execution_count": 39,
   "id": "7a10ff02-d489-4b66-9d9b-422cf8b9103c",
   "metadata": {},
   "outputs": [
    {
     "data": {
      "text/plain": [
       "array([-10.        ,  -7.77777778,  -5.55555556,  -3.33333333,\n",
       "        -1.11111111,   1.11111111,   3.33333333,   5.55555556,\n",
       "         7.77777778,  10.        ])"
      ]
     },
     "execution_count": 39,
     "metadata": {},
     "output_type": "execute_result"
    }
   ],
   "source": [
    "c"
   ]
  },
  {
   "cell_type": "code",
   "execution_count": 43,
   "id": "9b2aaad9-a295-47f9-b920-eac2f82ae97b",
   "metadata": {},
   "outputs": [
    {
     "data": {
      "text/plain": [
       "array([-1.  , -0.85, -0.7 , -0.55, -0.4 , -0.25, -0.1 ,  0.05,  0.2 ,\n",
       "        0.35,  0.5 ,  0.65,  0.8 ,  0.95,  1.1 ,  1.25,  1.4 ,  1.55,\n",
       "        1.7 ,  1.85,  2.  ,  2.15,  2.3 ,  2.45,  2.6 ,  2.75,  2.9 ,\n",
       "        3.05,  3.2 ,  3.35,  3.5 ,  3.65,  3.8 ,  3.95,  4.1 ,  4.25,\n",
       "        4.4 ,  4.55,  4.7 ,  4.85,  5.  ,  5.15,  5.3 ,  5.45,  5.6 ,\n",
       "        5.75,  5.9 ,  6.05,  6.2 ,  6.35,  6.5 ,  6.65,  6.8 ,  6.95,\n",
       "        7.1 ,  7.25,  7.4 ,  7.55,  7.7 ,  7.85,  8.  ,  8.15,  8.3 ,\n",
       "        8.45,  8.6 ,  8.75,  8.9 ,  9.05,  9.2 ,  9.35,  9.5 ,  9.65,\n",
       "        9.8 ,  9.95])"
      ]
     },
     "execution_count": 43,
     "metadata": {},
     "output_type": "execute_result"
    }
   ],
   "source": [
    "d"
   ]
  },
  {
   "cell_type": "code",
   "execution_count": 52,
   "id": "eb24753e-4123-4e38-994a-adfd0a58e178",
   "metadata": {},
   "outputs": [],
   "source": [
    "import matplotlib.pyplot as plt"
   ]
  },
  {
   "cell_type": "code",
   "execution_count": 53,
   "id": "a4f4287f-c85c-43fb-95f7-751026733612",
   "metadata": {},
   "outputs": [],
   "source": [
    "x=np.arange(-np.pi,np.pi,0.101)\n",
    "y=np.cos(x)"
   ]
  },
  {
   "cell_type": "code",
   "execution_count": 54,
   "id": "0778a46f-8cd8-40ae-bdb1-ff515236356b",
   "metadata": {},
   "outputs": [
    {
     "data": {
      "text/plain": [
       "[<matplotlib.lines.Line2D at 0x7ff9bb3ce970>]"
      ]
     },
     "execution_count": 54,
     "metadata": {},
     "output_type": "execute_result"
    },
    {
     "data": {
      "image/png": "[encoded data removed]",
      "text/plain": [
       "<Figure size 640x480 with 1 Axes>"
      ]
     },
     "metadata": {},
     "output_type": "display_data"
    }
   ],
   "source": [
    "plt.plot(x,y)"
   ]
  },
  {
   "cell_type": "code",
   "execution_count": null,
   "id": "a0fc687d-9bdf-4f5a-a0d0-d1bb33f82303",
   "metadata": {},
   "outputs": [],
   "source": []
  }
 ],
 "metadata": {
  "kernelspec": {
   "display_name": "Python 3 (ipykernel)",
   "language": "python",
   "name": "python3"
  },
  "language_info": {
   "codemirror_mode": {
    "name": "ipython",
    "version": 3
   },
   "file_extension": ".py",
   "mimetype": "text/x-python",
   "name": "python",
   "nbconvert_exporter": "python",
   "pygments_lexer": "ipython3",
   "version": "3.9.12"
  }
 },
 "nbformat": 4,
 "nbformat_minor": 5
}
